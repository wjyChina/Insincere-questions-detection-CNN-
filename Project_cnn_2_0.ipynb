{
  "nbformat": 4,
  "nbformat_minor": 0,
  "metadata": {
    "colab": {
      "name": "Project_cnn_2.0.ipynb",
      "version": "0.3.2",
      "provenance": [],
      "collapsed_sections": []
    },
    "language_info": {
      "codemirror_mode": {
        "name": "ipython",
        "version": 3
      },
      "file_extension": ".py",
      "mimetype": "text/x-python",
      "name": "python",
      "nbconvert_exporter": "python",
      "pygments_lexer": "ipython3",
      "version": "3.7.0"
    },
    "kernelspec": {
      "display_name": "Python 3",
      "language": "python",
      "name": "python3"
    },
    "accelerator": "GPU"
  },
  "cells": [
    {
      "cell_type": "markdown",
      "metadata": {
        "colab_type": "text",
        "id": "Tz7tpDd9_iTp"
      },
      "source": [
        "## Packages and constant declaration"
      ]
    },
    {
      "cell_type": "code",
      "metadata": {
        "colab_type": "code",
        "id": "qQ-JUWhcCsix",
        "outputId": "4ab8b22e-3716-4017-a6e7-5668732dd906",
        "colab": {
          "base_uri": "https://localhost:8080/",
          "height": 122
        }
      },
      "source": [
        "from google.colab import drive\n",
        "drive.mount('/content/drive')"
      ],
      "execution_count": 0,
      "outputs": [
        {
          "output_type": "stream",
          "text": [
            "Go to this URL in a browser: https://accounts.google.com/o/oauth2/auth?client_id=947318989803-6bn6qk8qdgf4n4g3pfee6491hc0brc4i.apps.googleusercontent.com&redirect_uri=urn%3Aietf%3Awg%3Aoauth%3A2.0%3Aoob&scope=email%20https%3A%2F%2Fwww.googleapis.com%2Fauth%2Fdocs.test%20https%3A%2F%2Fwww.googleapis.com%2Fauth%2Fdrive%20https%3A%2F%2Fwww.googleapis.com%2Fauth%2Fdrive.photos.readonly%20https%3A%2F%2Fwww.googleapis.com%2Fauth%2Fpeopleapi.readonly&response_type=code\n",
            "\n",
            "Enter your authorization code:\n",
            "··········\n",
            "Mounted at /content/drive\n"
          ],
          "name": "stdout"
        }
      ]
    },
    {
      "cell_type": "code",
      "metadata": {
        "colab_type": "code",
        "id": "D4fkPcrerF0b",
        "outputId": "93d24eab-36c7-400a-a2a4-5d40ee07d833",
        "colab": {
          "base_uri": "https://localhost:8080/",
          "height": 225
        }
      },
      "source": [
        "!apt-get install -y -qq software-properties-common python-software-properties module-init-tools\n",
        "!add-apt-repository -y ppa:alessandro-strada/ppa 2>&1 > /dev/null\n",
        "!apt-get update -qq 2>&1 > /dev/null\n",
        "!apt-get -y install -qq google-drive-ocamlfuse fuse\n",
        "from google.colab import auth\n",
        "auth.authenticate_user()\n",
        "from oauth2client.client import GoogleCredentials\n",
        "creds = GoogleCredentials.get_application_default()\n",
        "import getpass\n",
        "!google-drive-ocamlfuse -headless -id={creds.client_id} -secret={creds.client_secret} < /dev/null 2>&1 | grep URL\n",
        "vcode = getpass.getpass()\n",
        "!echo {vcode} | google-drive-ocamlfuse -headless -id={creds.client_id} -secret={creds.client_secret}"
      ],
      "execution_count": 0,
      "outputs": [
        {
          "output_type": "stream",
          "text": [
            "E: Package 'python-software-properties' has no installation candidate\n",
            "Selecting previously unselected package google-drive-ocamlfuse.\n",
            "(Reading database ... 131304 files and directories currently installed.)\n",
            "Preparing to unpack .../google-drive-ocamlfuse_0.7.3-0ubuntu3~ubuntu18.04.1_amd64.deb ...\n",
            "Unpacking google-drive-ocamlfuse (0.7.3-0ubuntu3~ubuntu18.04.1) ...\n",
            "Setting up google-drive-ocamlfuse (0.7.3-0ubuntu3~ubuntu18.04.1) ...\n",
            "Processing triggers for man-db (2.8.3-2ubuntu0.1) ...\n",
            "Please, open the following URL in a web browser: https://accounts.google.com/o/oauth2/auth?client_id=32555940559.apps.googleusercontent.com&redirect_uri=urn%3Aietf%3Awg%3Aoauth%3A2.0%3Aoob&scope=https%3A%2F%2Fwww.googleapis.com%2Fauth%2Fdrive&response_type=code&access_type=offline&approval_prompt=force\n",
            "··········\n",
            "Please, open the following URL in a web browser: https://accounts.google.com/o/oauth2/auth?client_id=32555940559.apps.googleusercontent.com&redirect_uri=urn%3Aietf%3Awg%3Aoauth%3A2.0%3Aoob&scope=https%3A%2F%2Fwww.googleapis.com%2Fauth%2Fdrive&response_type=code&access_type=offline&approval_prompt=force\n",
            "Please enter the verification code: Access token retrieved correctly.\n"
          ],
          "name": "stdout"
        }
      ]
    },
    {
      "cell_type": "code",
      "metadata": {
        "colab_type": "code",
        "id": "CkoSE2ta_iTr",
        "colab": {}
      },
      "source": [
        "import time"
      ],
      "execution_count": 0,
      "outputs": []
    },
    {
      "cell_type": "code",
      "metadata": {
        "colab_type": "code",
        "id": "uVbTNVII_iTw",
        "outputId": "9e4e17b7-8ab0-4135-a3df-cdf788b8845c",
        "colab": {
          "base_uri": "https://localhost:8080/",
          "height": 34
        }
      },
      "source": [
        "import numpy as np  #linear algebra\n",
        "import pandas as pd #Only CSV IO\n",
        "import os\n",
        "import re\n",
        "from torch.utils import data #dataloader of batch\n",
        "import torch\n",
        "import torch.nn as nn\n",
        "from sklearn.model_selection import train_test_split\n",
        "from sklearn.model_selection import StratifiedKFold\n",
        "from sklearn import metrics\n",
        "from keras.preprocessing.text import Tokenizer\n",
        "from keras.preprocessing.sequence import pad_sequences\n",
        "from torch.autograd import Variable #We can ask require grad or not\n",
        "from torch.optim.optimizer import Optimizer\n",
        "from torch.optim import lr_scheduler\n",
        "import torch.nn.functional as F\n",
        "from torchvision import transforms"
      ],
      "execution_count": 0,
      "outputs": [
        {
          "output_type": "stream",
          "text": [
            "Using TensorFlow backend.\n"
          ],
          "name": "stderr"
        }
      ]
    },
    {
      "cell_type": "code",
      "metadata": {
        "colab_type": "code",
        "id": "2CxEa0Yy_iT2",
        "colab": {}
      },
      "source": [
        "import matplotlib.pyplot as plt"
      ],
      "execution_count": 0,
      "outputs": []
    },
    {
      "cell_type": "code",
      "metadata": {
        "colab_type": "code",
        "id": "ykgchvANsiTd",
        "outputId": "0347d9a7-a185-460d-816e-557a5da8fe8d",
        "colab": {
          "base_uri": "https://localhost:8080/",
          "height": 51
        }
      },
      "source": [
        "# !ls drive/'My Drive'/'Colab Notebooks'/project\n",
        "# !ls\n",
        "os.chdir(\"drive/My Drive/Colab Notebooks/project\") \n",
        "!ls"
      ],
      "execution_count": 0,
      "outputs": [
        {
          "output_type": "stream",
          "text": [
            " Cnn.ipynb    Project_cnn_2.0.ipynb    Project_raw.ipynb   train.csv\n",
            " embeddings  'Project_raw (2).ipynb'   test.csv\n"
          ],
          "name": "stdout"
        }
      ]
    },
    {
      "cell_type": "code",
      "metadata": {
        "colab_type": "code",
        "id": "g60Zr6VN_iT5",
        "colab": {}
      },
      "source": [
        "device = torch.device(\"cuda\" if torch.cuda.is_available() else \"cpu\")"
      ],
      "execution_count": 0,
      "outputs": []
    },
    {
      "cell_type": "code",
      "metadata": {
        "colab_type": "code",
        "id": "hvfJwrWP_iT8",
        "colab": {}
      },
      "source": [
        "from sklearn.preprocessing import StandardScaler # Simplify the preprocess\n",
        "from multiprocessing import pool #multiprocessing, creating a pool parallel\n",
        "from functools import partial \n",
        "#freeze some arguments of a function to be a new function\n",
        "from sklearn.decomposition import PCA\n"
      ],
      "execution_count": 0,
      "outputs": []
    },
    {
      "cell_type": "code",
      "metadata": {
        "colab_type": "code",
        "id": "62Jg-3ql_iT-",
        "colab": {}
      },
      "source": [
        "os.environ['CUDA_LAUNCH_BLOCKING'] = \"1\" # easy to locate traceback\n",
        "embedding_size = 300 # embedding vector length\n",
        "max_word = 200000 # How many unique words to use \n",
        "max_q = 60 # max number of words in a question\n",
        "maxq=60\n",
        "batch_size = 1024#Batch size\n",
        "n_epochs = 23 # epochs"
      ],
      "execution_count": 0,
      "outputs": []
    },
    {
      "cell_type": "code",
      "metadata": {
        "colab_type": "code",
        "id": "ErIO6kZ6_iUB",
        "colab": {}
      },
      "source": [
        "def seed(seed=1000):# Give random seed to everything\n",
        "    os.environ['PYTHONHASHSEED'] = str(seed)\n",
        "    np.random.seed(seed)\n",
        "    torch.manual_seed(seed)\n",
        "    torch.cuda.manual_seed(seed)\n",
        "    torch.backends.cudnn.deterministic = True\n",
        "seed()"
      ],
      "execution_count": 0,
      "outputs": []
    },
    {
      "cell_type": "markdown",
      "metadata": {
        "colab_type": "text",
        "id": "n6zdldK5_iUD"
      },
      "source": [
        "## Data preprocessing"
      ]
    },
    {
      "cell_type": "code",
      "metadata": {
        "colab_type": "code",
        "id": "VEKwrU5N_iUE",
        "colab": {}
      },
      "source": [
        "puncts = [',', '.', '\"', ':', ')', '(', '-', '!', '?', '|', ';', \"'\", '$', '&', '/', '[', ']', '>', '%', '=', '#', '*', '+', '\\\\', '•',  '~', '@', '£', \n",
        " '·', '_', '{', '}', '©', '^', '®', '`',  '<', '→', '°', '€', '™', '›',  '♥', '←', '×', '§', '″', '′', 'Â', '█', '½', 'à', '…', \n",
        " '“', '★', '”', '–', '●', 'â', '►', '−', '¢', '²', '¬', '░', '¶', '↑', '±', '¿', '▾', '═', '¦', '║', '―', '¥', '▓', '—', '‹', '─', \n",
        " '▒', '：', '¼', '⊕', '▼', '▪', '†', '■', '’', '▀', '¨', '▄', '♫', '☆', 'é', '¯', '♦', '¤', '▲', 'è', '¸', '¾', 'Ã', '⋅', '‘', '∞', \n",
        " '∙', '）', '↓', '、', '│', '（', '»', '，', '♪', '╩', '╚', '³', '・', '╦', '╣', '╔', '╗', '▬', '❤', 'ï', 'Ø', '¹', '≤', '‡', '√', ]\n",
        "\n",
        "def clean(x): #process the punction\n",
        "    x=str(x)\n",
        "    for punct in puncts:\n",
        "        if punct in x:\n",
        "            x=x.replace(punct,f'{punct}')\n",
        "    return x\n",
        "\n",
        "def clean_numbers(x): # Replace the number with #, make all numbers the same\n",
        "    if bool(re.search(r'\\d',x)):\n",
        "        x=re.sub('[0-9]{5,}','#####',x)\n",
        "        x=re.sub('[0-9]{4}','####',x)\n",
        "        x=re.sub('[0-9]{3}','###',x)\n",
        "        x=re.sub('[0-9]{2}','##',x)\n",
        "    return x\n",
        "\n",
        "# The common abbreviation for some phrase\n",
        "fullversiondict={\"ain't\": \"is not\", \"aren't\": \"are not\",\"can't\": \"cannot\",\n",
        "                 \"'cause\": \"because\", \"could've\": \"could have\", \"couldn't\": \"could not\", \"didn't\": \"did not\",  \n",
        "                 \"doesn't\": \"does not\", \"don't\": \"do not\", \"hadn't\": \"had not\", \"hasn't\": \"has not\", \"haven't\": \"have not\",\n",
        "                 \"he'd\": \"he would\",\"he'll\": \"he will\", \"he's\": \"he is\", \"how'd\": \"how did\", \"how'd'y\": \"how do you\", \"how'll\": \"how will\",\n",
        "                 \"how's\": \"how is\",  \"I'd\": \"I would\", \"I'd've\": \"I would have\", \"I'll\": \"I will\", \"I'll've\": \"I will have\",\"I'm\": \"I am\",\n",
        "                 \"I've\": \"I have\", \"i'd\": \"i would\", \"i'd've\": \"i would have\", \"i'll\": \"i will\",  \"i'll've\": \"i will have\",\"i'm\": \"i am\", \n",
        "                 \"i've\": \"i have\", \"isn't\": \"is not\", \"it'd\": \"it would\", \"it'd've\": \"it would have\", \"it'll\": \"it will\", \"it'll've\": \"it will have\",\n",
        "                 \"it's\": \"it is\", \"let's\": \"let us\", \"ma'am\": \"madam\", \"mayn't\": \"may not\", \"might've\": \"might have\",\"mightn't\": \"might not\",\"mightn't've\": \"might not have\", \n",
        "                 \"must've\": \"must have\", \"mustn't\": \"must not\", \"mustn't've\": \"must not have\", \"needn't\": \"need not\", \"needn't've\": \"need not have\",\"o'clock\": \"of the clock\", \n",
        "                 \"oughtn't\": \"ought not\", \"oughtn't've\": \"ought not have\", \"shan't\": \"shall not\", \"sha'n't\": \"shall not\", \"shan't've\": \"shall not have\", \"she'd\": \"she would\", \n",
        "                 \"she'd've\": \"she would have\", \"she'll\": \"she will\", \"she'll've\": \"she will have\", \"she's\": \"she is\", \"should've\": \"should have\", \"shouldn't\": \"should not\", \"shouldn't've\": \"should not have\", \n",
        "                 \"so've\": \"so have\",\"so's\": \"so as\", \"this's\": \"this is\",\"that'd\": \"that would\", \"that'd've\": \"that would have\", \"that's\": \"that is\", \"there'd\": \"there would\", \"there'd've\": \"there would have\",\n",
        "                 \"there's\": \"there is\", \"here's\": \"here is\",\"they'd\": \"they would\", \"they'd've\": \"they would have\", \"they'll\": \"they will\", \"they'll've\": \"they will have\", \"they're\": \"they are\", \"they've\": \"they have\", \n",
        "                 \"to've\": \"to have\", \"wasn't\": \"was not\", \"we'd\": \"we would\", \"we'd've\": \"we would have\", \"we'll\": \"we will\", \"we'll've\": \"we will have\", \"we're\": \"we are\", \"we've\": \"we have\", \"weren't\": \"were not\", \"what'll\": \"what will\",\n",
        "                 \"what'll've\": \"what will have\", \"what're\": \"what are\",  \"what's\": \"what is\", \"what've\": \"what have\", \"when's\": \"when is\", \"when've\": \"when have\", \"where'd\": \"where did\", \"where's\": \"where is\", \"where've\": \"where have\", \"who'll\": \"who will\", \n",
        "                 \"who'll've\": \"who will have\", \"who's\": \"who is\", \"who've\": \"who have\", \"why's\": \"why is\", \"why've\": \"why have\", \"will've\": \"will have\", \"won't\": \"will not\", \"won't've\": \"will not have\", \"would've\": \"would have\", \"wouldn't\": \"would not\",\n",
        "                 \"wouldn't've\": \"would not have\", \"y'all\": \"you all\", \"y'all'd\": \"you all would\",\"y'all'd've\": \"you all would have\",\"y'all're\": \"you all are\",\"y'all've\": \"you all have\",\"you'd\": \"you would\", \"you'd've\": \"you would have\", \"you'll\": \"you will\", \"you'll've\": \"you will have\", \n",
        "                 \"you're\": \"you are\", \"you've\": \"you have\", 'colour': 'color', 'centre': 'center', 'favourite': 'favorite', 'travelling': 'traveling', 'counselling': 'counseling', 'theatre': 'theater', 'cancelled': 'canceled', 'labour': 'labor', 'organisation': 'organization', \n",
        "                 'wwii': 'world war 2', 'citicise': 'criticize', 'youtu ': 'youtube ', 'Qoura': 'Quora', 'sallary': 'salary', 'Whta': 'What', 'narcisist': 'narcissist', 'howdo': 'how do', 'whatare': 'what are', 'howcan': 'how can', 'howmuch': 'how much', 'howmany': 'how many', 'whydo': 'why do',\n",
        "                 'doI': 'do I', 'theBest': 'the best', 'howdoes': 'how does', 'mastrubation': 'masturbation', 'mastrubate': 'masturbate', \"mastrubating\": 'masturbating', 'pennis': 'penis', 'Etherium': 'Ethereum', 'narcissit': 'narcissist', 'bigdata': 'big data', '2k17': '2017', '2k18': '2018',\n",
        "                 'qouta': 'quota','exboyfriend': 'ex boyfriend', 'airhostess': 'air hostess', \"whst\": 'what', 'watsapp': 'whatsapp', 'demonitisation': 'demonetization', 'demonitization': 'demonetization', 'demonetisation': 'demonetization'}\n",
        "def _get_full(fullversiondict):\n",
        "    full_re = re.compile('(%s)'%'|'.join(fullversiondict.keys()))\n",
        "    return fullversiondict , full_re # To make things we want to replace single string\n",
        "\n",
        "fullversiondict,full_re=_get_full(fullversiondict)\n",
        "def replacetext(text):\n",
        "    def replace(match): \n",
        "        return fullversiondict[match.group(0)]\n",
        "    return full_re.sub(replace,text) # The full.re here is match, can replace any string now\n"
      ],
      "execution_count": 0,
      "outputs": []
    },
    {
      "cell_type": "code",
      "metadata": {
        "colab_type": "code",
        "id": "K1YmE8yu_iUI",
        "colab": {}
      },
      "source": [
        "def read_pre():\n",
        "    train_df = pd.read_csv('train.csv')\n",
        "    test_df = pd.read_csv('test.csv')\n",
        "    print('Train shape:',train_df.shape)\n",
        "    print('Test shape:',test_df.shape)\n",
        "    # Lower case\n",
        "    train_df['question_text'] = train_df['question_text'].apply(lambda x: x.lower())\n",
        "    test_df['question_text'] = test_df['question_text'].apply(lambda x: x.lower())\n",
        "    # Clean punction\n",
        "    train_df[\"question_text\"] = train_df[\"question_text\"].apply(lambda x: clean(x))\n",
        "    test_df[\"question_text\"] = test_df[\"question_text\"].apply(lambda x: clean(x))\n",
        "    #clean numbers\n",
        "    train_df[\"question_text\"] = train_df[\"question_text\"].apply(lambda x: clean_numbers(x))\n",
        "    test_df[\"question_text\"] = test_df[\"question_text\"].apply(lambda x: clean_numbers(x))\n",
        "    #replace abbreviation\n",
        "    train_df[\"question_text\"] = train_df[\"question_text\"].apply(lambda x: replacetext(x))\n",
        "    test_df[\"question_text\"] = test_df[\"question_text\"].apply(lambda x: replacetext(x))\n",
        "    ## fill up the missing values using next valid value\n",
        "    train_X = train_df[\"question_text\"].fillna(method=\"bfill\").values\n",
        "    test_X = test_df[\"question_text\"].fillna(method=\"bfill\").values\n",
        "    \n",
        "    ####################\n",
        "    #Tokenize the sentences\n",
        "    tokenizer = Tokenizer(num_words = max_word)\n",
        "    tokenizer.fit_on_texts(list(train_X)) # only use words in training set\n",
        "    train_X = tokenizer.texts_to_sequences(train_X)\n",
        "    test_X = tokenizer.texts_to_sequences(test_X)\n",
        "    word_index = tokenizer.word_index\n",
        "    nb_words = min(max_word, len(word_index))\n",
        "        \n",
        "    #Pad the sentences, to make equal length of sentences\n",
        "    train_X = pad_sequences(train_X, maxlen=maxq)\n",
        "    test_X = pad_sequences(test_X, maxlen=maxq)\n",
        "     \n",
        "    #Similar to one-hot encoding   \n",
        "    #train_X=np.delete(train_X,[np.where(np.sum(train_X,axis=1)==0)])\n",
        "    #test_X=np.delete(test_X,[np.where(np.sum(test_X,axis=1)==0)])\n",
        "    \n",
        "    #Target\n",
        "    train_y = train_df['target'].values\n",
        "    return train_X, test_X, train_y, word_index\n",
        "    "
      ],
      "execution_count": 0,
      "outputs": []
    },
    {
      "cell_type": "code",
      "metadata": {
        "colab_type": "code",
        "id": "RKQrTfMT_iUL",
        "colab": {}
      },
      "source": [
        "class SpatialDropout(nn.Dropout2d):\n",
        "    def forward(self, x):\n",
        "        x = x.unsqueeze(2)    # (N, T, 1, K)\n",
        "        x = x.permute(0, 3, 2, 1)  # (N, K, 1, T)\n",
        "        x = super(SpatialDropout, self).forward(x)  # (N, K, 1, T), some features are masked\n",
        "        x = x.permute(0, 3, 2, 1)  # (N, T, 1, K)\n",
        "        x = x.squeeze(2)  # (N, T, K)\n",
        "        return x\n",
        "#Data augmentation"
      ],
      "execution_count": 0,
      "outputs": []
    },
    {
      "cell_type": "code",
      "metadata": {
        "colab_type": "code",
        "id": "s9oBE4kV_iUN",
        "colab": {}
      },
      "source": [
        "# the pretrained embedding model\n",
        "def load_glove(word_index):\n",
        "    FILE= 'embeddings/glove.840B.300d//glove.840B.300d.txt'\n",
        "    def get_coefs(word,*arr):return word, np.asarray(arr, dtype='float32')[:embedding_size]\n",
        "    embeddings_index = dict(get_coefs(*o.split(' '))for o in open(FILE) if len(o)>300)\n",
        "    #construct word array pair dictionary\n",
        "    all_embs = np.stack(embeddings_index.values())\n",
        "    emb_mean,emb_std = all_embs.mean(), all_embs.std()\n",
        "    nb_words = min(max_word, len(word_index))\n",
        "    #Initialize a matrix using random value, in case that some words don't exist in our embedding\n",
        "    embedding_matrix = np.random.normal(emb_mean, emb_std, (nb_words+1,embedding_size))\n",
        "    #Associate the word in our training set with the embedding model\n",
        "    for word, i in word_index.items():\n",
        "        if i>= max_word: continue\n",
        "        embedding_vector = embeddings_index.get(word) # get the vector for this word form dictionary\n",
        "        if embedding_vector is not None: embedding_matrix[i] = embedding_vector\n",
        "    return (embedding_matrix)\n",
        "##Do same thing to other types of embedding\n",
        "\n",
        "def load_para(word_index):\n",
        "    FILE = 'embeddings/paragram_300_sl999-1/paragram_300_sl999.txt'\n",
        "    def get_coefs(word,*arr): return word, np.asarray(arr, dtype='float32')\n",
        "    embeddings_index = dict(get_coefs(*o.split(\" \")) for o in open(FILE, encoding=\"utf8\", errors='ignore') if len(o)>300)\n",
        "\n",
        "    all_embs = np.stack(embeddings_index.values())\n",
        "    emb_mean,emb_std = all_embs.mean(), all_embs.std()\n",
        "\n",
        "    nb_words = min(max_word, len(word_index))\n",
        "    embedding_matrix = np.random.normal(emb_mean, emb_std, (nb_words+1, embedding_size))\n",
        "    for word, i in word_index.items():\n",
        "        if i >= max_word: continue\n",
        "        embedding_vector = embeddings_index.get(word)\n",
        "        if embedding_vector is not None: embedding_matrix[i] = embedding_vector\n",
        "    \n",
        "    return embedding_matrix\n"
      ],
      "execution_count": 0,
      "outputs": []
    },
    {
      "cell_type": "code",
      "metadata": {
        "colab_type": "code",
        "id": "xnjBAGru_iUQ",
        "outputId": "969d6477-3c6e-468b-d185-52ac4ea4b3d2",
        "colab": {
          "base_uri": "https://localhost:8080/",
          "height": 105
        }
      },
      "source": [
        "train_X, test_X, train_y,  word_index = read_pre()\n",
        "embedding_matrix_1 = load_glove(word_index)"
      ],
      "execution_count": 0,
      "outputs": [
        {
          "output_type": "stream",
          "text": [
            "Train shape: (1306122, 3)\n",
            "Test shape: (375806, 2)\n"
          ],
          "name": "stdout"
        },
        {
          "output_type": "stream",
          "text": [
            "/usr/local/lib/python3.6/dist-packages/ipykernel_launcher.py:6: FutureWarning: arrays to stack must be passed as a \"sequence\" type such as list or tuple. Support for non-sequence iterables such as generators is deprecated as of NumPy 1.16 and will raise an error in the future.\n",
            "  \n"
          ],
          "name": "stderr"
        }
      ]
    },
    {
      "cell_type": "code",
      "metadata": {
        "colab_type": "code",
        "id": "5mLCeCvRJ5yO",
        "outputId": "34acff9e-3e0a-47f8-f080-744752bb10e7",
        "colab": {
          "base_uri": "https://localhost:8080/",
          "height": 34
        }
      },
      "source": [
        "print(train_y[train_y==0].shape)\n",
        "# print(train_X[2,])"
      ],
      "execution_count": 0,
      "outputs": [
        {
          "output_type": "stream",
          "text": [
            "(1225312,)\n"
          ],
          "name": "stdout"
        }
      ]
    },
    {
      "cell_type": "code",
      "metadata": {
        "colab_type": "code",
        "id": "66r0fbbeJ3J1",
        "outputId": "724c7587-3288-4bec-d508-3f3ef36a29cc",
        "colab": {
          "base_uri": "https://localhost:8080/",
          "height": 158
        }
      },
      "source": [
        "##### Structure Trial #####\n",
        "m1=nn.Conv1d(300,128,3)\n",
        "inp=Variable(torch.randn(256,60,300)) #batch*channel*word\n",
        "inp=torch.transpose(inp,1,2)\n",
        "pool=nn.MaxPool1d(4)\n",
        "feature1=m1(inp)\n",
        "feature1=pool(feature1)\n",
        "m2=nn.Conv1d(300,128,4)\n",
        "feature2=m2(inp)\n",
        "feature2=pool(feature2)\n",
        "m3=nn.Conv1d(300,128,5)\n",
        "feature3=m3(inp)\n",
        "feature3=pool(feature3)\n",
        "print(\"feature1\",feature1.size())\n",
        "print(\"feature2\",feature2.size())\n",
        "print(\"feature3\",feature3.size())\n",
        "cat=torch.cat([feature1,feature2,feature3],1)\n",
        "print(\"concat\",cat.size())\n",
        "conv1=nn.Conv1d(384,128,5)\n",
        "out=conv1(cat)\n",
        "out=pool(out)\n",
        "print(\"out\",out.size())\n",
        "conv_2=nn.Conv1d(128,64,2)\n",
        "out=conv_2(out)\n",
        "# pool2=nn.MaxPool1d(2)\n",
        "# out=pool2(out)\n",
        "print(\"out\",out.size())\n",
        "conv_3=nn.Conv1d(64,1,1)\n",
        "out=conv_3(out)\n",
        "print(\"out\",out.size())\n",
        "out=torch.squeeze(out,2)\n",
        "print(\"out\",out.size())\n",
        "\n"
      ],
      "execution_count": 0,
      "outputs": [
        {
          "output_type": "stream",
          "text": [
            "feature1 torch.Size([256, 128, 14])\n",
            "feature2 torch.Size([256, 128, 14])\n",
            "feature3 torch.Size([256, 128, 14])\n",
            "concat torch.Size([256, 384, 14])\n",
            "out torch.Size([256, 128, 2])\n",
            "out torch.Size([256, 64, 1])\n",
            "out torch.Size([256, 1, 1])\n",
            "out torch.Size([256, 1])\n"
          ],
          "name": "stdout"
        }
      ]
    },
    {
      "cell_type": "code",
      "metadata": {
        "colab_type": "code",
        "id": "UejUcWj5bIsA",
        "colab": {}
      },
      "source": [
        "class NeuralNet2(nn.Module):\n",
        "    def __init__(self):\n",
        "        super(NeuralNet2, self).__init__()\n",
        "        \n",
        "        \n",
        "        self.embedding = nn.Embedding(embedding_size,max_word)\n",
        "        self.embedding.weight = nn.Parameter(torch.tensor(embedding_matrix_1, dtype=torch.float32))\n",
        "        self.embedding.weight.requires_grad = False\n",
        "        #The embedding vectors here are not parameter needing update\n",
        "        self.embedding_dropout = SpatialDropout(0.15)\n",
        "        #Using embedding  and data augmentation\n",
        "         \n",
        "        self.pool = nn.MaxPool1d(4)\n",
        "#         self.pool2 = nn.MaxPool1d(9)\n",
        "        \n",
        "        self.branch1 = nn.Conv1d(300,128,3)        \n",
        "        self.branch2 = nn.Conv1d(300,128,4)\n",
        "        self.branch3 = nn.Conv1d(300,128,5)\n",
        "        \n",
        "        self.bn_branch = nn.BatchNorm1d(128)\n",
        "        self.bn_2 = nn.BatchNorm1d(64)\n",
        "        \n",
        "        self.conv_1=nn.Conv1d(128,64,5)\n",
        "#         self.conv_2=nn.Conv1d(64,64,5)\n",
        "        self.linear=nn.Linear(576,256)\n",
        "        self.linear2=nn.Linear(256,1)\n",
        "      \n",
        "    def forward(self, x):\n",
        "        h_embedding = self.embedding(x)\n",
        "        h_embedding = self.embedding_dropout(h_embedding)#batch*60*300\n",
        "        h_embedding = torch.transpose(h_embedding,1,2) #Conv1D takes batch*channel*width\n",
        "#         print(\"embedding\",h_embedding.size())\n",
        "        #Data augmentation\n",
        "        \n",
        "        branch1=self.branch1(h_embedding)\n",
        "        branch1=self.bn_branch(branch1)\n",
        "        branch1=F.relu(branch1)\n",
        "        branch1 = F.dropout(branch1,p=0.2,training=self.training)\n",
        "        branch1=self.pool(branch1)\n",
        "        branch2=self.branch2(h_embedding)\n",
        "        branch2=self.bn_branch(branch2)\n",
        "        branch2=F.relu(branch2)\n",
        "        branch2 = F.dropout(branch2,p=0.2,training=self.training)\n",
        "        branch2=self.pool(branch2)\n",
        "        branch3=self.branch3(h_embedding)\n",
        "        branch3=self.bn_branch(branch3)\n",
        "        branch3=F.relu(branch3)\n",
        "        branch3 = F.dropout(branch3,p=0.2,training=self.training)\n",
        "        branch3=self.pool(branch3)\n",
        "        cat=torch.cat([branch1,branch2,branch3],2)\n",
        "#         print(\"cat\",cat.size())\n",
        "        out=self.conv_1(cat)\n",
        "        out=self.bn_2(out)\n",
        "        out=F.relu(out)\n",
        "        out=F.dropout(out,p=0.2,training=self.training)\n",
        "        out=self.pool(out)\n",
        "#         out=self.conv_2(out)\n",
        "#         out=self.bn_2(out)\n",
        "#         out=F.relu(out)\n",
        "#         out=F.dropout(out,p=0.2,training=self.training)\n",
        "#         out=self.pool2(out)\n",
        "#         out=self.conv_3(out)\n",
        "#         print(\"out\",out.size())\n",
        "        out=out.view(-1,576)\n",
        "        out=self.linear(out)\n",
        "        out=F.relu(out)\n",
        "        out=self.linear2(out)\n",
        "#         out=torch.squeeze(out,2)\n",
        "        return out"
      ],
      "execution_count": 0,
      "outputs": []
    },
    {
      "cell_type": "code",
      "metadata": {
        "colab_type": "code",
        "id": "qSULKcmqsgdF",
        "colab": {}
      },
      "source": [
        "test_X=np.concatenate((train_X[train_y==1][0:10000],train_X[train_y==0][0:10000]))\n",
        "test_y=np.concatenate((train_y[train_y==1][0:10000],train_y[train_y==0][0:10000]))\n",
        "train_XX=np.concatenate((train_X[train_y==1][10000:],train_X[train_y==0][10000:]))\n",
        "train_yy=np.concatenate((train_y[train_y==1][10000:],train_y[train_y==0][10000:]))"
      ],
      "execution_count": 0,
      "outputs": []
    },
    {
      "cell_type": "code",
      "metadata": {
        "colab_type": "code",
        "id": "cHrOfB22sfs-",
        "colab": {}
      },
      "source": [
        "#### Oversampling ####\n",
        "train_XX_f=train_XX\n",
        "train_yy_f=train_yy\n",
        "for i in range(17):\n",
        "    train_XX_f = np.concatenate((train_XX_f,train_XX[train_yy==1]))\n",
        "    train_yy_f = np.concatenate((train_yy_f,train_yy[train_yy==1]))\n"
      ],
      "execution_count": 0,
      "outputs": []
    },
    {
      "cell_type": "code",
      "metadata": {
        "colab_type": "code",
        "id": "0nKYIMkSTISM",
        "outputId": "1dd494a2-d5f4-4309-c210-88be4e4ffcf8",
        "colab": {
          "base_uri": "https://localhost:8080/",
          "height": 51
        }
      },
      "source": [
        "print(train_yy_f[train_yy_f==1].shape)\n",
        "print(train_yy_f[train_yy_f==0].shape)\n"
      ],
      "execution_count": 0,
      "outputs": [
        {
          "output_type": "stream",
          "text": [
            "(1274580,)\n",
            "(1215312,)\n"
          ],
          "name": "stdout"
        }
      ]
    },
    {
      "cell_type": "code",
      "metadata": {
        "colab_type": "code",
        "id": "zIUJ5vtG_iU5",
        "outputId": "b9b3f8c7-db4c-4d40-bb63-2e5054d2e4c7",
        "colab": {
          "base_uri": "https://localhost:8080/",
          "height": 4540
        }
      },
      "source": [
        "##### NN2(oversample)  #####\n",
        "seed(100)\n",
        "\n",
        "#Train test idx\n",
        "trainfoldx = torch.tensor(train_XX_f, dtype=torch.long).to(device)\n",
        "trainfoldy = torch.tensor(train_yy_f, dtype=torch.float32).to(device)\n",
        "x_val_fold = torch.tensor(test_X, dtype=torch.long).to(device)\n",
        "y_val_fold = torch.tensor(test_y[:,np.newaxis], dtype=torch.float32).to(device)\n",
        "print(trainfoldy[trainfoldy==1].shape)\n",
        "print(trainfoldy[trainfoldy==0].shape)\n",
        "print(y_val_fold[y_val_fold==1].shape)\n",
        "print(y_val_fold[y_val_fold==0].shape)\n",
        "# print(trainfoldy[0:5,])\n",
        "# print(y_val_fold[0:5,])\n",
        "#Our model\n",
        "mbatch_cost = []\n",
        "model = NeuralNet2()\n",
        "model.to(device)\n",
        "loss_fn = torch.nn.BCEWithLogitsLoss()\n",
        "optimizer = torch.optim.Adam(model.parameters(),lr=0.001, weight_decay=1e-8)\n",
        "#Dataloader\n",
        "train = torch.utils.data.TensorDataset(trainfoldx,trainfoldy)\n",
        "valid = torch.utils.data.TensorDataset(x_val_fold, y_val_fold)\n",
        "\n",
        "train_loader = torch.utils.data.DataLoader(train , batch_size=batch_size,shuffle=True)\n",
        "valid_loader = torch.utils.data.DataLoader(valid, batch_size=batch_size, shuffle=False)\n",
        "\n",
        "for epoch in range(n_epochs):\n",
        "    start = time.time()\n",
        "    model.train()\n",
        "    grand_loss = 0\n",
        "    for  batch_idx, (x_batch, y_batch) in enumerate(train_loader):\n",
        "        #forward\n",
        "        y_pred = model(x_batch)\n",
        "        loss = loss_fn(torch.squeeze(y_pred), y_batch)\n",
        "\n",
        "        #backprop\n",
        "        optimizer.zero_grad()\n",
        "        loss.backward()\n",
        "        optimizer.step()\n",
        "        mbatch_cost.append(loss.item())\n",
        "        grand_loss += loss.item()/len(train_loader)\n",
        "        if not batch_idx % 256:\n",
        "            print ('Epoch: %03d/%03d | Batch %03d/%03d | Loss: %.4f' \n",
        "               %(epoch+1, n_epochs, batch_idx, len(train_loader), loss.item()))\n",
        "\n",
        "                 #evaluation          \n",
        "    model.eval()\n",
        "\n",
        "    valid_pred = np.array(list())\n",
        "\n",
        "\n",
        "    val_loss = 0\n",
        "\n",
        "    for i, (x_batch, y_batch) in enumerate(valid_loader):\n",
        "        y_pred = model(x_batch).detach()\n",
        "        val_loss += loss_fn(y_pred,y_batch).item()/len(valid_loader)\n",
        "        valid_pred = np.append(valid_pred, np.array(torch.sigmoid(y_pred.cpu()))[:, 0])\n",
        "    epoch_time=time.time()-start\n",
        "    valid_acc = ((valid_pred>0.5).astype(int)==np.array(y_val_fold.squeeze().cpu())).sum()/len(y_val_fold)\n",
        "    print('Epoch {}/{} \\t train_loss={:.4f} \\t test_loss={:.4f}\\t test_accu={:.4f} \\t time={:.2f}s'.format(epoch + 1, n_epochs, grand_loss, val_loss,valid_acc, epoch_time))\n",
        "    "
      ],
      "execution_count": 0,
      "outputs": [
        {
          "output_type": "stream",
          "text": [
            "torch.Size([1274580])\n",
            "torch.Size([1215312])\n",
            "torch.Size([10000])\n",
            "torch.Size([10000])\n",
            "Epoch: 001/023 | Batch 000/2432 | Loss: 0.6803\n",
            "Epoch: 001/023 | Batch 256/2432 | Loss: 0.3192\n",
            "Epoch: 001/023 | Batch 512/2432 | Loss: 0.3279\n",
            "Epoch: 001/023 | Batch 768/2432 | Loss: 0.3151\n",
            "Epoch: 001/023 | Batch 1024/2432 | Loss: 0.3025\n",
            "Epoch: 001/023 | Batch 1280/2432 | Loss: 0.2826\n",
            "Epoch: 001/023 | Batch 1536/2432 | Loss: 0.3021\n",
            "Epoch: 001/023 | Batch 1792/2432 | Loss: 0.2634\n",
            "Epoch: 001/023 | Batch 2048/2432 | Loss: 0.2707\n",
            "Epoch: 001/023 | Batch 2304/2432 | Loss: 0.2599\n",
            "Epoch 1/23 \t train_loss=0.2894 \t test_loss=0.6429\t test_accu=0.5001 \t time=164.64s\n",
            "Epoch: 002/023 | Batch 000/2432 | Loss: 0.2583\n",
            "Epoch: 002/023 | Batch 256/2432 | Loss: 0.2391\n",
            "Epoch: 002/023 | Batch 512/2432 | Loss: 0.2659\n",
            "Epoch: 002/023 | Batch 768/2432 | Loss: 0.2422\n",
            "Epoch: 002/023 | Batch 1024/2432 | Loss: 0.2417\n",
            "Epoch: 002/023 | Batch 1280/2432 | Loss: 0.2542\n",
            "Epoch: 002/023 | Batch 1536/2432 | Loss: 0.2716\n",
            "Epoch: 002/023 | Batch 1792/2432 | Loss: 0.2231\n",
            "Epoch: 002/023 | Batch 2048/2432 | Loss: 0.2436\n",
            "Epoch: 002/023 | Batch 2304/2432 | Loss: 0.2402\n",
            "Epoch 2/23 \t train_loss=0.2478 \t test_loss=0.7689\t test_accu=0.6399 \t time=172.29s\n",
            "Epoch: 003/023 | Batch 000/2432 | Loss: 0.2381\n",
            "Epoch: 003/023 | Batch 256/2432 | Loss: 0.2461\n",
            "Epoch: 003/023 | Batch 512/2432 | Loss: 0.2302\n",
            "Epoch: 003/023 | Batch 768/2432 | Loss: 0.2351\n",
            "Epoch: 003/023 | Batch 1024/2432 | Loss: 0.2203\n",
            "Epoch: 003/023 | Batch 1280/2432 | Loss: 0.2153\n",
            "Epoch: 003/023 | Batch 1536/2432 | Loss: 0.2366\n",
            "Epoch: 003/023 | Batch 1792/2432 | Loss: 0.2265\n",
            "Epoch: 003/023 | Batch 2048/2432 | Loss: 0.1968\n",
            "Epoch: 003/023 | Batch 2304/2432 | Loss: 0.2227\n",
            "Epoch 3/23 \t train_loss=0.2244 \t test_loss=1.3479\t test_accu=0.5131 \t time=171.59s\n",
            "Epoch: 004/023 | Batch 000/2432 | Loss: 0.1981\n",
            "Epoch: 004/023 | Batch 256/2432 | Loss: 0.2323\n",
            "Epoch: 004/023 | Batch 512/2432 | Loss: 0.2018\n",
            "Epoch: 004/023 | Batch 768/2432 | Loss: 0.2074\n",
            "Epoch: 004/023 | Batch 1024/2432 | Loss: 0.2393\n",
            "Epoch: 004/023 | Batch 1280/2432 | Loss: 0.1953\n",
            "Epoch: 004/023 | Batch 1536/2432 | Loss: 0.2262\n",
            "Epoch: 004/023 | Batch 1792/2432 | Loss: 0.1615\n",
            "Epoch: 004/023 | Batch 2048/2432 | Loss: 0.2346\n",
            "Epoch: 004/023 | Batch 2304/2432 | Loss: 0.1938\n",
            "Epoch 4/23 \t train_loss=0.2091 \t test_loss=1.5977\t test_accu=0.5196 \t time=171.15s\n",
            "Epoch: 005/023 | Batch 000/2432 | Loss: 0.1656\n",
            "Epoch: 005/023 | Batch 256/2432 | Loss: 0.1906\n",
            "Epoch: 005/023 | Batch 512/2432 | Loss: 0.2023\n",
            "Epoch: 005/023 | Batch 768/2432 | Loss: 0.1887\n",
            "Epoch: 005/023 | Batch 1024/2432 | Loss: 0.1909\n",
            "Epoch: 005/023 | Batch 1280/2432 | Loss: 0.2181\n",
            "Epoch: 005/023 | Batch 1536/2432 | Loss: 0.2115\n",
            "Epoch: 005/023 | Batch 1792/2432 | Loss: 0.2036\n",
            "Epoch: 005/023 | Batch 2048/2432 | Loss: 0.1973\n",
            "Epoch: 005/023 | Batch 2304/2432 | Loss: 0.1842\n",
            "Epoch 5/23 \t train_loss=0.1993 \t test_loss=0.9937\t test_accu=0.5405 \t time=171.57s\n",
            "Epoch: 006/023 | Batch 000/2432 | Loss: 0.1854\n",
            "Epoch: 006/023 | Batch 256/2432 | Loss: 0.1571\n",
            "Epoch: 006/023 | Batch 512/2432 | Loss: 0.1783\n",
            "Epoch: 006/023 | Batch 768/2432 | Loss: 0.1973\n",
            "Epoch: 006/023 | Batch 1024/2432 | Loss: 0.1794\n",
            "Epoch: 006/023 | Batch 1280/2432 | Loss: 0.1712\n",
            "Epoch: 006/023 | Batch 1536/2432 | Loss: 0.2080\n",
            "Epoch: 006/023 | Batch 1792/2432 | Loss: 0.1941\n",
            "Epoch: 006/023 | Batch 2048/2432 | Loss: 0.1800\n",
            "Epoch: 006/023 | Batch 2304/2432 | Loss: 0.2036\n",
            "Epoch 6/23 \t train_loss=0.1918 \t test_loss=0.7957\t test_accu=0.6333 \t time=171.08s\n",
            "Epoch: 007/023 | Batch 000/2432 | Loss: 0.1757\n",
            "Epoch: 007/023 | Batch 256/2432 | Loss: 0.2001\n",
            "Epoch: 007/023 | Batch 512/2432 | Loss: 0.1971\n",
            "Epoch: 007/023 | Batch 768/2432 | Loss: 0.2096\n",
            "Epoch: 007/023 | Batch 1024/2432 | Loss: 0.1866\n",
            "Epoch: 007/023 | Batch 1280/2432 | Loss: 0.2020\n",
            "Epoch: 007/023 | Batch 1536/2432 | Loss: 0.2088\n",
            "Epoch: 007/023 | Batch 1792/2432 | Loss: 0.1921\n",
            "Epoch: 007/023 | Batch 2048/2432 | Loss: 0.1829\n",
            "Epoch: 007/023 | Batch 2304/2432 | Loss: 0.2076\n",
            "Epoch 7/23 \t train_loss=0.1867 \t test_loss=1.1144\t test_accu=0.5952 \t time=171.08s\n",
            "Epoch: 008/023 | Batch 000/2432 | Loss: 0.1639\n",
            "Epoch: 008/023 | Batch 256/2432 | Loss: 0.1972\n",
            "Epoch: 008/023 | Batch 512/2432 | Loss: 0.1908\n",
            "Epoch: 008/023 | Batch 768/2432 | Loss: 0.1649\n",
            "Epoch: 008/023 | Batch 1024/2432 | Loss: 0.1938\n",
            "Epoch: 008/023 | Batch 1280/2432 | Loss: 0.1832\n",
            "Epoch: 008/023 | Batch 1536/2432 | Loss: 0.1848\n",
            "Epoch: 008/023 | Batch 1792/2432 | Loss: 0.1540\n",
            "Epoch: 008/023 | Batch 2048/2432 | Loss: 0.1972\n",
            "Epoch: 008/023 | Batch 2304/2432 | Loss: 0.2098\n",
            "Epoch 8/23 \t train_loss=0.1823 \t test_loss=0.5998\t test_accu=0.7936 \t time=170.62s\n",
            "Epoch: 009/023 | Batch 000/2432 | Loss: 0.1770\n",
            "Epoch: 009/023 | Batch 256/2432 | Loss: 0.1651\n",
            "Epoch: 009/023 | Batch 512/2432 | Loss: 0.1691\n",
            "Epoch: 009/023 | Batch 768/2432 | Loss: 0.1687\n",
            "Epoch: 009/023 | Batch 1024/2432 | Loss: 0.1421\n",
            "Epoch: 009/023 | Batch 1280/2432 | Loss: 0.1832\n",
            "Epoch: 009/023 | Batch 1536/2432 | Loss: 0.1917\n",
            "Epoch: 009/023 | Batch 1792/2432 | Loss: 0.2149\n",
            "Epoch: 009/023 | Batch 2048/2432 | Loss: 0.1609\n",
            "Epoch: 009/023 | Batch 2304/2432 | Loss: 0.1899\n",
            "Epoch 9/23 \t train_loss=0.1788 \t test_loss=0.3246\t test_accu=0.8802 \t time=170.93s\n",
            "Epoch: 010/023 | Batch 000/2432 | Loss: 0.1774\n",
            "Epoch: 010/023 | Batch 256/2432 | Loss: 0.1782\n",
            "Epoch: 010/023 | Batch 512/2432 | Loss: 0.2122\n",
            "Epoch: 010/023 | Batch 768/2432 | Loss: 0.1708\n",
            "Epoch: 010/023 | Batch 1024/2432 | Loss: 0.1752\n",
            "Epoch: 010/023 | Batch 1280/2432 | Loss: 0.1836\n",
            "Epoch: 010/023 | Batch 1536/2432 | Loss: 0.1917\n",
            "Epoch: 010/023 | Batch 1792/2432 | Loss: 0.1773\n",
            "Epoch: 010/023 | Batch 2048/2432 | Loss: 0.1705\n",
            "Epoch: 010/023 | Batch 2304/2432 | Loss: 0.1878\n",
            "Epoch 10/23 \t train_loss=0.1759 \t test_loss=0.3271\t test_accu=0.8461 \t time=170.90s\n",
            "Epoch: 011/023 | Batch 000/2432 | Loss: 0.1889\n",
            "Epoch: 011/023 | Batch 256/2432 | Loss: 0.1781\n",
            "Epoch: 011/023 | Batch 512/2432 | Loss: 0.1872\n",
            "Epoch: 011/023 | Batch 768/2432 | Loss: 0.1534\n",
            "Epoch: 011/023 | Batch 1024/2432 | Loss: 0.1813\n",
            "Epoch: 011/023 | Batch 1280/2432 | Loss: 0.1920\n",
            "Epoch: 011/023 | Batch 1536/2432 | Loss: 0.2116\n",
            "Epoch: 011/023 | Batch 1792/2432 | Loss: 0.1626\n",
            "Epoch: 011/023 | Batch 2048/2432 | Loss: 0.1838\n",
            "Epoch: 011/023 | Batch 2304/2432 | Loss: 0.1782\n",
            "Epoch 11/23 \t train_loss=0.1737 \t test_loss=0.4183\t test_accu=0.7544 \t time=171.26s\n",
            "Epoch: 012/023 | Batch 000/2432 | Loss: 0.1343\n",
            "Epoch: 012/023 | Batch 256/2432 | Loss: 0.1714\n",
            "Epoch: 012/023 | Batch 512/2432 | Loss: 0.1628\n",
            "Epoch: 012/023 | Batch 768/2432 | Loss: 0.1830\n",
            "Epoch: 012/023 | Batch 1024/2432 | Loss: 0.1904\n",
            "Epoch: 012/023 | Batch 1280/2432 | Loss: 0.1489\n",
            "Epoch: 012/023 | Batch 1536/2432 | Loss: 0.1647\n",
            "Epoch: 012/023 | Batch 1792/2432 | Loss: 0.1479\n",
            "Epoch: 012/023 | Batch 2048/2432 | Loss: 0.1766\n",
            "Epoch: 012/023 | Batch 2304/2432 | Loss: 0.1633\n",
            "Epoch 12/23 \t train_loss=0.1715 \t test_loss=0.4233\t test_accu=0.7730 \t time=170.83s\n",
            "Epoch: 013/023 | Batch 000/2432 | Loss: 0.1589\n",
            "Epoch: 013/023 | Batch 256/2432 | Loss: 0.1567\n",
            "Epoch: 013/023 | Batch 512/2432 | Loss: 0.1715\n",
            "Epoch: 013/023 | Batch 768/2432 | Loss: 0.1681\n",
            "Epoch: 013/023 | Batch 1024/2432 | Loss: 0.1544\n",
            "Epoch: 013/023 | Batch 1280/2432 | Loss: 0.1929\n",
            "Epoch: 013/023 | Batch 1536/2432 | Loss: 0.1757\n",
            "Epoch: 013/023 | Batch 1792/2432 | Loss: 0.1732\n",
            "Epoch: 013/023 | Batch 2048/2432 | Loss: 0.1675\n",
            "Epoch: 013/023 | Batch 2304/2432 | Loss: 0.1519\n",
            "Epoch 13/23 \t train_loss=0.1695 \t test_loss=0.4671\t test_accu=0.7583 \t time=170.76s\n",
            "Epoch: 014/023 | Batch 000/2432 | Loss: 0.1647\n",
            "Epoch: 014/023 | Batch 256/2432 | Loss: 0.1713\n",
            "Epoch: 014/023 | Batch 512/2432 | Loss: 0.1495\n",
            "Epoch: 014/023 | Batch 768/2432 | Loss: 0.1550\n",
            "Epoch: 014/023 | Batch 1024/2432 | Loss: 0.1767\n",
            "Epoch: 014/023 | Batch 1280/2432 | Loss: 0.1517\n",
            "Epoch: 014/023 | Batch 1536/2432 | Loss: 0.1559\n",
            "Epoch: 014/023 | Batch 1792/2432 | Loss: 0.1475\n",
            "Epoch: 014/023 | Batch 2048/2432 | Loss: 0.1640\n",
            "Epoch: 014/023 | Batch 2304/2432 | Loss: 0.1612\n",
            "Epoch 14/23 \t train_loss=0.1669 \t test_loss=0.6437\t test_accu=0.6369 \t time=170.75s\n",
            "Epoch: 015/023 | Batch 000/2432 | Loss: 0.1632\n",
            "Epoch: 015/023 | Batch 256/2432 | Loss: 0.1818\n",
            "Epoch: 015/023 | Batch 512/2432 | Loss: 0.1673\n",
            "Epoch: 015/023 | Batch 768/2432 | Loss: 0.1691\n",
            "Epoch: 015/023 | Batch 1024/2432 | Loss: 0.1863\n",
            "Epoch: 015/023 | Batch 1280/2432 | Loss: 0.1728\n",
            "Epoch: 015/023 | Batch 1536/2432 | Loss: 0.1725\n",
            "Epoch: 015/023 | Batch 1792/2432 | Loss: 0.1404\n",
            "Epoch: 015/023 | Batch 2048/2432 | Loss: 0.1493\n",
            "Epoch: 015/023 | Batch 2304/2432 | Loss: 0.1724\n",
            "Epoch 15/23 \t train_loss=0.1650 \t test_loss=0.5508\t test_accu=0.6784 \t time=170.91s\n",
            "Epoch: 016/023 | Batch 000/2432 | Loss: 0.1622\n",
            "Epoch: 016/023 | Batch 256/2432 | Loss: 0.1810\n",
            "Epoch: 016/023 | Batch 512/2432 | Loss: 0.1667\n",
            "Epoch: 016/023 | Batch 768/2432 | Loss: 0.1816\n",
            "Epoch: 016/023 | Batch 1024/2432 | Loss: 0.1668\n",
            "Epoch: 016/023 | Batch 1280/2432 | Loss: 0.1748\n",
            "Epoch: 016/023 | Batch 1536/2432 | Loss: 0.1582\n",
            "Epoch: 016/023 | Batch 1792/2432 | Loss: 0.1622\n",
            "Epoch: 016/023 | Batch 2048/2432 | Loss: 0.1552\n",
            "Epoch: 016/023 | Batch 2304/2432 | Loss: 0.1556\n",
            "Epoch 16/23 \t train_loss=0.1636 \t test_loss=0.4419\t test_accu=0.7909 \t time=170.97s\n",
            "Epoch: 017/023 | Batch 000/2432 | Loss: 0.1756\n",
            "Epoch: 017/023 | Batch 256/2432 | Loss: 0.1605\n",
            "Epoch: 017/023 | Batch 512/2432 | Loss: 0.1693\n",
            "Epoch: 017/023 | Batch 768/2432 | Loss: 0.1606\n",
            "Epoch: 017/023 | Batch 1024/2432 | Loss: 0.1549\n",
            "Epoch: 017/023 | Batch 1280/2432 | Loss: 0.1459\n",
            "Epoch: 017/023 | Batch 1536/2432 | Loss: 0.1337\n",
            "Epoch: 017/023 | Batch 1792/2432 | Loss: 0.1584\n",
            "Epoch: 017/023 | Batch 2048/2432 | Loss: 0.1490\n",
            "Epoch: 017/023 | Batch 2304/2432 | Loss: 0.1729\n",
            "Epoch 17/23 \t train_loss=0.1618 \t test_loss=0.4131\t test_accu=0.8134 \t time=170.68s\n",
            "Epoch: 018/023 | Batch 000/2432 | Loss: 0.1252\n",
            "Epoch: 018/023 | Batch 256/2432 | Loss: 0.1782\n",
            "Epoch: 018/023 | Batch 512/2432 | Loss: 0.1638\n",
            "Epoch: 018/023 | Batch 768/2432 | Loss: 0.1393\n",
            "Epoch: 018/023 | Batch 1024/2432 | Loss: 0.1558\n",
            "Epoch: 018/023 | Batch 1280/2432 | Loss: 0.1478\n",
            "Epoch: 018/023 | Batch 1536/2432 | Loss: 0.1373\n",
            "Epoch: 018/023 | Batch 1792/2432 | Loss: 0.1519\n",
            "Epoch: 018/023 | Batch 2048/2432 | Loss: 0.1465\n",
            "Epoch: 018/023 | Batch 2304/2432 | Loss: 0.1838\n",
            "Epoch 18/23 \t train_loss=0.1605 \t test_loss=0.3812\t test_accu=0.8310 \t time=170.80s\n",
            "Epoch: 019/023 | Batch 000/2432 | Loss: 0.1695\n",
            "Epoch: 019/023 | Batch 256/2432 | Loss: 0.1608\n",
            "Epoch: 019/023 | Batch 512/2432 | Loss: 0.1640\n",
            "Epoch: 019/023 | Batch 768/2432 | Loss: 0.1702\n",
            "Epoch: 019/023 | Batch 1024/2432 | Loss: 0.1854\n",
            "Epoch: 019/023 | Batch 1280/2432 | Loss: 0.1820\n",
            "Epoch: 019/023 | Batch 1536/2432 | Loss: 0.1721\n",
            "Epoch: 019/023 | Batch 1792/2432 | Loss: 0.1374\n",
            "Epoch: 019/023 | Batch 2048/2432 | Loss: 0.1442\n",
            "Epoch: 019/023 | Batch 2304/2432 | Loss: 0.1608\n",
            "Epoch 19/23 \t train_loss=0.1596 \t test_loss=0.4159\t test_accu=0.8038 \t time=170.78s\n",
            "Epoch: 020/023 | Batch 000/2432 | Loss: 0.1752\n",
            "Epoch: 020/023 | Batch 256/2432 | Loss: 0.1614\n",
            "Epoch: 020/023 | Batch 512/2432 | Loss: 0.1619\n",
            "Epoch: 020/023 | Batch 768/2432 | Loss: 0.1304\n",
            "Epoch: 020/023 | Batch 1024/2432 | Loss: 0.1560\n",
            "Epoch: 020/023 | Batch 1280/2432 | Loss: 0.1234\n",
            "Epoch: 020/023 | Batch 1536/2432 | Loss: 0.1790\n",
            "Epoch: 020/023 | Batch 1792/2432 | Loss: 0.1420\n",
            "Epoch: 020/023 | Batch 2048/2432 | Loss: 0.2021\n",
            "Epoch: 020/023 | Batch 2304/2432 | Loss: 0.1630\n",
            "Epoch 20/23 \t train_loss=0.1586 \t test_loss=0.4335\t test_accu=0.8009 \t time=170.77s\n",
            "Epoch: 021/023 | Batch 000/2432 | Loss: 0.1356\n",
            "Epoch: 021/023 | Batch 256/2432 | Loss: 0.1690\n",
            "Epoch: 021/023 | Batch 512/2432 | Loss: 0.1705\n",
            "Epoch: 021/023 | Batch 768/2432 | Loss: 0.1497\n",
            "Epoch: 021/023 | Batch 1024/2432 | Loss: 0.1618\n",
            "Epoch: 021/023 | Batch 1280/2432 | Loss: 0.1496\n",
            "Epoch: 021/023 | Batch 1536/2432 | Loss: 0.1342\n",
            "Epoch: 021/023 | Batch 1792/2432 | Loss: 0.1518\n",
            "Epoch: 021/023 | Batch 2048/2432 | Loss: 0.1845\n",
            "Epoch: 021/023 | Batch 2304/2432 | Loss: 0.1385\n",
            "Epoch 21/23 \t train_loss=0.1571 \t test_loss=0.3679\t test_accu=0.8486 \t time=170.99s\n",
            "Epoch: 022/023 | Batch 000/2432 | Loss: 0.1729\n",
            "Epoch: 022/023 | Batch 256/2432 | Loss: 0.1566\n",
            "Epoch: 022/023 | Batch 512/2432 | Loss: 0.1340\n",
            "Epoch: 022/023 | Batch 768/2432 | Loss: 0.1522\n",
            "Epoch: 022/023 | Batch 1024/2432 | Loss: 0.1564\n",
            "Epoch: 022/023 | Batch 1280/2432 | Loss: 0.1569\n",
            "Epoch: 022/023 | Batch 1536/2432 | Loss: 0.1603\n",
            "Epoch: 022/023 | Batch 1792/2432 | Loss: 0.1485\n",
            "Epoch: 022/023 | Batch 2048/2432 | Loss: 0.1560\n",
            "Epoch: 022/023 | Batch 2304/2432 | Loss: 0.1608\n",
            "Epoch 22/23 \t train_loss=0.1566 \t test_loss=0.3545\t test_accu=0.8668 \t time=171.12s\n",
            "Epoch: 023/023 | Batch 000/2432 | Loss: 0.1415\n",
            "Epoch: 023/023 | Batch 256/2432 | Loss: 0.1807\n",
            "Epoch: 023/023 | Batch 512/2432 | Loss: 0.1629\n",
            "Epoch: 023/023 | Batch 768/2432 | Loss: 0.1625\n",
            "Epoch: 023/023 | Batch 1024/2432 | Loss: 0.1596\n",
            "Epoch: 023/023 | Batch 1280/2432 | Loss: 0.1557\n",
            "Epoch: 023/023 | Batch 1536/2432 | Loss: 0.1488\n",
            "Epoch: 023/023 | Batch 1792/2432 | Loss: 0.1549\n",
            "Epoch: 023/023 | Batch 2048/2432 | Loss: 0.1661\n",
            "Epoch: 023/023 | Batch 2304/2432 | Loss: 0.1709\n",
            "Epoch 23/23 \t train_loss=0.1556 \t test_loss=0.3887\t test_accu=0.8442 \t time=170.90s\n"
          ],
          "name": "stdout"
        }
      ]
    },
    {
      "cell_type": "code",
      "metadata": {
        "colab_type": "code",
        "id": "9QrBXwIVpZuT",
        "outputId": "f7d9f0ab-dce7-4e95-c74d-dc406d406f9c",
        "colab": {
          "base_uri": "https://localhost:8080/",
          "height": 287
        }
      },
      "source": [
        "plt.plot(mbatch_cost)"
      ],
      "execution_count": 0,
      "outputs": [
        {
          "output_type": "execute_result",
          "data": {
            "text/plain": [
              "[<matplotlib.lines.Line2D at 0x7f3136b75898>]"
            ]
          },
          "metadata": {
            "tags": []
          },
          "execution_count": 22
        },
        {
          "output_type": "display_data",
          "data": {
            "image/png": "[encoded data removed]",
            "text/plain": [
              "<Figure size 432x288 with 1 Axes>"
            ]
          },
          "metadata": {
            "tags": []
          }
        }
      ]
    },
    {
      "cell_type": "code",
      "metadata": {
        "id": "b_mMI_agoAH5",
        "colab_type": "code",
        "outputId": "4eeab520-907e-429e-a797-1c74ebd4778d",
        "colab": {
          "base_uri": "https://localhost:8080/",
          "height": 51
        }
      },
      "source": [
        "#### Train set retrieve ####\n",
        "train_XX_f=train_XX\n",
        "train_yy_f=train_yy\n",
        "print(train_yy_f[train_yy_f==1].shape)\n",
        "print(train_yy_f[train_yy_f==0].shape)"
      ],
      "execution_count": 0,
      "outputs": [
        {
          "output_type": "stream",
          "text": [
            "(70810,)\n",
            "(1215312,)\n"
          ],
          "name": "stdout"
        }
      ]
    },
    {
      "cell_type": "code",
      "metadata": {
        "id": "kN0wxoH_2tzS",
        "colab_type": "code",
        "outputId": "0492aa53-6c8a-4dcc-cbc4-0a6d9c04f29f",
        "colab": {
          "base_uri": "https://localhost:8080/",
          "height": 2440
        }
      },
      "source": [
        "#### NN2 loss biased ####\n",
        "seed(100)\n",
        "\n",
        "#Train test idx\n",
        "trainfoldx = torch.tensor(train_XX_f, dtype=torch.long).to(device)\n",
        "trainfoldy = torch.tensor(train_yy_f, dtype=torch.float32).to(device)\n",
        "x_val_fold = torch.tensor(test_X, dtype=torch.long).to(device)\n",
        "y_val_fold = torch.tensor(test_y[:,np.newaxis], dtype=torch.float32).to(device)\n",
        "print(trainfoldy[trainfoldy==1].shape)\n",
        "print(trainfoldy[trainfoldy==0].shape)\n",
        "print(y_val_fold[y_val_fold==1].shape)\n",
        "print(y_val_fold[y_val_fold==0].shape)\n",
        "# print(trainfoldy[0:5,])\n",
        "# print(y_val_fold[0:5,])\n",
        "#Our model\n",
        "mbatch_cost = []\n",
        "model = NeuralNet2()\n",
        "model.to(device)\n",
        "loss_fn = torch.nn.BCEWithLogitsLoss(pos_weight=torch.Tensor([(17.0)]).to(device))\n",
        "optimizer = torch.optim.Adam(model.parameters(),lr=0.001, weight_decay=1e-8)\n",
        "#Dataloader\n",
        "train = torch.utils.data.TensorDataset(trainfoldx,trainfoldy)\n",
        "valid = torch.utils.data.TensorDataset(x_val_fold, y_val_fold)\n",
        "\n",
        "train_loader = torch.utils.data.DataLoader(train , batch_size=batch_size,shuffle=True)\n",
        "valid_loader = torch.utils.data.DataLoader(valid, batch_size=batch_size, shuffle=False)\n",
        "\n",
        "for epoch in range(n_epochs):\n",
        "    start = time.time()\n",
        "    model.train()\n",
        "    grand_loss = 0\n",
        "    for  batch_idx, (x_batch, y_batch) in enumerate(train_loader):\n",
        "        #forward\n",
        "        y_pred = model(x_batch)\n",
        "        loss = loss_fn(torch.squeeze(y_pred), y_batch)\n",
        "\n",
        "        #backprop\n",
        "        optimizer.zero_grad()\n",
        "        loss.backward()\n",
        "        optimizer.step()\n",
        "        mbatch_cost.append(loss.item())\n",
        "        grand_loss += loss.item()/len(train_loader)\n",
        "        if not batch_idx % 256:\n",
        "            print ('Epoch: %03d/%03d | Batch %03d/%03d | Loss: %.4f' \n",
        "               %(epoch+1, n_epochs, batch_idx, len(train_loader), loss.item()))\n",
        "\n",
        "                 #evaluation          \n",
        "    model.eval()\n",
        "\n",
        "    valid_pred = np.array(list())\n",
        "\n",
        "\n",
        "    val_loss = 0\n",
        "\n",
        "    for i, (x_batch, y_batch) in enumerate(valid_loader):\n",
        "        y_pred = model(x_batch).detach()\n",
        "        val_loss += loss_fn(y_pred,y_batch).item()/len(valid_loader)\n",
        "        valid_pred = np.append(valid_pred, np.array(torch.sigmoid(y_pred.cpu()))[:, 0])\n",
        "    epoch_time=time.time()-start\n",
        "    valid_acc = ((valid_pred>0.5).astype(int)==np.array(y_val_fold.squeeze().cpu())).sum()/len(y_val_fold)\n",
        "    print('Epoch {}/{} \\t train_loss={:.4f} \\t test_loss={:.4f}\\t test_accu={:.4f} \\t time={:.2f}s'.format(epoch + 1, n_epochs, grand_loss, val_loss,valid_acc, epoch_time))"
      ],
      "execution_count": 0,
      "outputs": [
        {
          "output_type": "stream",
          "text": [
            "torch.Size([70810])\n",
            "torch.Size([1215312])\n",
            "torch.Size([10000])\n",
            "torch.Size([10000])\n",
            "Epoch: 001/023 | Batch 000/1256 | Loss: 1.2228\n",
            "Epoch: 001/023 | Batch 256/1256 | Loss: 0.7291\n",
            "Epoch: 001/023 | Batch 512/1256 | Loss: 0.6804\n",
            "Epoch: 001/023 | Batch 768/1256 | Loss: 0.5051\n",
            "Epoch: 001/023 | Batch 1024/1256 | Loss: 0.5618\n",
            "Epoch 1/23 \t train_loss=0.6353 \t test_loss=10.1508\t test_accu=0.5000 \t time=85.57s\n",
            "Epoch: 002/023 | Batch 000/1256 | Loss: 0.7217\n",
            "Epoch: 002/023 | Batch 256/1256 | Loss: 0.7109\n",
            "Epoch: 002/023 | Batch 512/1256 | Loss: 0.7309\n",
            "Epoch: 002/023 | Batch 768/1256 | Loss: 0.8359\n",
            "Epoch: 002/023 | Batch 1024/1256 | Loss: 0.5528\n",
            "Epoch 2/23 \t train_loss=0.5897 \t test_loss=3.5950\t test_accu=0.4999 \t time=90.04s\n",
            "Epoch: 003/023 | Batch 000/1256 | Loss: 0.6825\n",
            "Epoch: 003/023 | Batch 256/1256 | Loss: 0.5546\n",
            "Epoch: 003/023 | Batch 512/1256 | Loss: 0.5763\n",
            "Epoch: 003/023 | Batch 768/1256 | Loss: 0.7653\n",
            "Epoch: 003/023 | Batch 1024/1256 | Loss: 0.7301\n",
            "Epoch 3/23 \t train_loss=0.5721 \t test_loss=5.9299\t test_accu=0.4941 \t time=91.58s\n",
            "Epoch: 004/023 | Batch 000/1256 | Loss: 0.6220\n",
            "Epoch: 004/023 | Batch 256/1256 | Loss: 0.5941\n",
            "Epoch: 004/023 | Batch 512/1256 | Loss: 0.4942\n",
            "Epoch: 004/023 | Batch 768/1256 | Loss: 0.5435\n",
            "Epoch: 004/023 | Batch 1024/1256 | Loss: 0.4753\n",
            "Epoch 4/23 \t train_loss=0.5586 \t test_loss=4.1891\t test_accu=0.4886 \t time=91.49s\n",
            "Epoch: 005/023 | Batch 000/1256 | Loss: 0.4568\n",
            "Epoch: 005/023 | Batch 256/1256 | Loss: 0.4788\n",
            "Epoch: 005/023 | Batch 512/1256 | Loss: 0.5339\n",
            "Epoch: 005/023 | Batch 768/1256 | Loss: 0.4419\n",
            "Epoch: 005/023 | Batch 1024/1256 | Loss: 0.5990\n",
            "Epoch 5/23 \t train_loss=0.5451 \t test_loss=4.9628\t test_accu=0.4923 \t time=91.18s\n",
            "Epoch: 006/023 | Batch 000/1256 | Loss: 0.5970\n",
            "Epoch: 006/023 | Batch 256/1256 | Loss: 0.6058\n",
            "Epoch: 006/023 | Batch 512/1256 | Loss: 0.6222\n",
            "Epoch: 006/023 | Batch 768/1256 | Loss: 0.5568\n",
            "Epoch: 006/023 | Batch 1024/1256 | Loss: 0.4047\n",
            "Epoch 6/23 \t train_loss=0.5352 \t test_loss=5.6598\t test_accu=0.5084 \t time=91.69s\n",
            "Epoch: 007/023 | Batch 000/1256 | Loss: 0.5659\n",
            "Epoch: 007/023 | Batch 256/1256 | Loss: 0.6217\n",
            "Epoch: 007/023 | Batch 512/1256 | Loss: 0.4392\n",
            "Epoch: 007/023 | Batch 768/1256 | Loss: 0.5799\n",
            "Epoch: 007/023 | Batch 1024/1256 | Loss: 0.6483\n",
            "Epoch 7/23 \t train_loss=0.5262 \t test_loss=6.7914\t test_accu=0.5939 \t time=91.15s\n",
            "Epoch: 008/023 | Batch 000/1256 | Loss: 0.4342\n",
            "Epoch: 008/023 | Batch 256/1256 | Loss: 0.4125\n",
            "Epoch: 008/023 | Batch 512/1256 | Loss: 0.5349\n",
            "Epoch: 008/023 | Batch 768/1256 | Loss: 0.4524\n",
            "Epoch: 008/023 | Batch 1024/1256 | Loss: 0.5634\n",
            "Epoch 8/23 \t train_loss=0.5178 \t test_loss=10.9271\t test_accu=0.5000 \t time=90.91s\n",
            "Epoch: 009/023 | Batch 000/1256 | Loss: 0.3975\n",
            "Epoch: 009/023 | Batch 256/1256 | Loss: 0.5260\n",
            "Epoch: 009/023 | Batch 512/1256 | Loss: 0.6022\n",
            "Epoch: 009/023 | Batch 768/1256 | Loss: 0.6647\n",
            "Epoch: 009/023 | Batch 1024/1256 | Loss: 0.3707\n",
            "Epoch 9/23 \t train_loss=0.5108 \t test_loss=12.4525\t test_accu=0.5000 \t time=90.74s\n",
            "Epoch: 010/023 | Batch 000/1256 | Loss: 0.4805\n",
            "Epoch: 010/023 | Batch 256/1256 | Loss: 0.4952\n",
            "Epoch: 010/023 | Batch 512/1256 | Loss: 0.5123\n",
            "Epoch: 010/023 | Batch 768/1256 | Loss: 0.6807\n",
            "Epoch: 010/023 | Batch 1024/1256 | Loss: 0.5386\n",
            "Epoch 10/23 \t train_loss=0.5037 \t test_loss=13.0555\t test_accu=0.5000 \t time=90.88s\n",
            "Epoch: 011/023 | Batch 000/1256 | Loss: 0.5609\n",
            "Epoch: 011/023 | Batch 256/1256 | Loss: 0.5259\n",
            "Epoch: 011/023 | Batch 512/1256 | Loss: 0.5489\n",
            "Epoch: 011/023 | Batch 768/1256 | Loss: 0.5602\n",
            "Epoch: 011/023 | Batch 1024/1256 | Loss: 0.4466\n",
            "Epoch 11/23 \t train_loss=0.4982 \t test_loss=16.2328\t test_accu=0.5000 \t time=90.39s\n",
            "Epoch: 012/023 | Batch 000/1256 | Loss: 0.4651\n",
            "Epoch: 012/023 | Batch 256/1256 | Loss: 0.5746\n",
            "Epoch: 012/023 | Batch 512/1256 | Loss: 0.4188\n",
            "Epoch: 012/023 | Batch 768/1256 | Loss: 0.5512\n",
            "Epoch: 012/023 | Batch 1024/1256 | Loss: 0.5004\n",
            "Epoch 12/23 \t train_loss=0.4918 \t test_loss=25.3371\t test_accu=0.5000 \t time=90.46s\n",
            "Epoch: 013/023 | Batch 000/1256 | Loss: 0.4051\n",
            "Epoch: 013/023 | Batch 256/1256 | Loss: 0.5267\n",
            "Epoch: 013/023 | Batch 512/1256 | Loss: 0.5064\n",
            "Epoch: 013/023 | Batch 768/1256 | Loss: 0.4807\n",
            "Epoch: 013/023 | Batch 1024/1256 | Loss: 0.5022\n",
            "Epoch 13/23 \t train_loss=0.4857 \t test_loss=22.9263\t test_accu=0.5000 \t time=90.58s\n",
            "Epoch: 014/023 | Batch 000/1256 | Loss: 0.5699\n",
            "Epoch: 014/023 | Batch 256/1256 | Loss: 0.5382\n",
            "Epoch: 014/023 | Batch 512/1256 | Loss: 0.4390\n",
            "Epoch: 014/023 | Batch 768/1256 | Loss: 0.5554\n",
            "Epoch: 014/023 | Batch 1024/1256 | Loss: 0.4752\n",
            "Epoch 14/23 \t train_loss=0.4803 \t test_loss=25.6136\t test_accu=0.5000 \t time=90.41s\n",
            "Epoch: 015/023 | Batch 000/1256 | Loss: 0.4483\n",
            "Epoch: 015/023 | Batch 256/1256 | Loss: 0.6954\n",
            "Epoch: 015/023 | Batch 512/1256 | Loss: 0.4754\n",
            "Epoch: 015/023 | Batch 768/1256 | Loss: 0.4076\n",
            "Epoch: 015/023 | Batch 1024/1256 | Loss: 0.4133\n",
            "Epoch 15/23 \t train_loss=0.4728 \t test_loss=20.1851\t test_accu=0.5000 \t time=90.66s\n",
            "Epoch: 016/023 | Batch 000/1256 | Loss: 0.5769\n",
            "Epoch: 016/023 | Batch 256/1256 | Loss: 0.3859\n",
            "Epoch: 016/023 | Batch 512/1256 | Loss: 0.5147\n",
            "Epoch: 016/023 | Batch 768/1256 | Loss: 0.3620\n",
            "Epoch: 016/023 | Batch 1024/1256 | Loss: 0.6835\n",
            "Epoch 16/23 \t train_loss=0.4701 \t test_loss=15.1129\t test_accu=0.5007 \t time=91.07s\n",
            "Epoch: 017/023 | Batch 000/1256 | Loss: 0.5069\n",
            "Epoch: 017/023 | Batch 256/1256 | Loss: 0.4378\n",
            "Epoch: 017/023 | Batch 512/1256 | Loss: 0.3881\n",
            "Epoch: 017/023 | Batch 768/1256 | Loss: 0.4091\n",
            "Epoch: 017/023 | Batch 1024/1256 | Loss: 0.5466\n",
            "Epoch 17/23 \t train_loss=0.4656 \t test_loss=12.1562\t test_accu=0.5292 \t time=91.32s\n",
            "Epoch: 018/023 | Batch 000/1256 | Loss: 0.4508\n",
            "Epoch: 018/023 | Batch 256/1256 | Loss: 0.5336\n",
            "Epoch: 018/023 | Batch 512/1256 | Loss: 0.4149\n",
            "Epoch: 018/023 | Batch 768/1256 | Loss: 0.3956\n",
            "Epoch: 018/023 | Batch 1024/1256 | Loss: 0.4880\n",
            "Epoch 18/23 \t train_loss=0.4613 \t test_loss=8.5329\t test_accu=0.6962 \t time=91.06s\n",
            "Epoch: 019/023 | Batch 000/1256 | Loss: 0.4643\n",
            "Epoch: 019/023 | Batch 256/1256 | Loss: 0.4434\n",
            "Epoch: 019/023 | Batch 512/1256 | Loss: 0.3937\n",
            "Epoch: 019/023 | Batch 768/1256 | Loss: 0.4164\n",
            "Epoch: 019/023 | Batch 1024/1256 | Loss: 0.3986\n",
            "Epoch 19/23 \t train_loss=0.4564 \t test_loss=4.1922\t test_accu=0.8529 \t time=91.22s\n",
            "Epoch: 020/023 | Batch 000/1256 | Loss: 0.3864\n",
            "Epoch: 020/023 | Batch 256/1256 | Loss: 0.4096\n",
            "Epoch: 020/023 | Batch 512/1256 | Loss: 0.3481\n",
            "Epoch: 020/023 | Batch 768/1256 | Loss: 0.3412\n",
            "Epoch: 020/023 | Batch 1024/1256 | Loss: 0.6011\n",
            "Epoch 20/23 \t train_loss=0.4529 \t test_loss=3.8455\t test_accu=0.8568 \t time=91.41s\n",
            "Epoch: 021/023 | Batch 000/1256 | Loss: 0.6349\n",
            "Epoch: 021/023 | Batch 256/1256 | Loss: 0.5571\n",
            "Epoch: 021/023 | Batch 512/1256 | Loss: 0.4223\n",
            "Epoch: 021/023 | Batch 768/1256 | Loss: 0.4311\n",
            "Epoch: 021/023 | Batch 1024/1256 | Loss: 0.4827\n",
            "Epoch 21/23 \t train_loss=0.4504 \t test_loss=3.3843\t test_accu=0.8656 \t time=90.92s\n",
            "Epoch: 022/023 | Batch 000/1256 | Loss: 0.4590\n",
            "Epoch: 022/023 | Batch 256/1256 | Loss: 0.3642\n",
            "Epoch: 022/023 | Batch 512/1256 | Loss: 0.3591\n",
            "Epoch: 022/023 | Batch 768/1256 | Loss: 0.3840\n",
            "Epoch: 022/023 | Batch 1024/1256 | Loss: 0.5002\n",
            "Epoch 22/23 \t train_loss=0.4469 \t test_loss=5.4193\t test_accu=0.8345 \t time=91.19s\n",
            "Epoch: 023/023 | Batch 000/1256 | Loss: 0.3675\n",
            "Epoch: 023/023 | Batch 256/1256 | Loss: 0.4227\n",
            "Epoch: 023/023 | Batch 512/1256 | Loss: 0.5128\n",
            "Epoch: 023/023 | Batch 768/1256 | Loss: 0.4175\n",
            "Epoch: 023/023 | Batch 1024/1256 | Loss: 0.5226\n",
            "Epoch 23/23 \t train_loss=0.4434 \t test_loss=5.8623\t test_accu=0.8337 \t time=91.35s\n"
          ],
          "name": "stdout"
        }
      ]
    },
    {
      "cell_type": "code",
      "metadata": {
        "id": "79_VPcLKF0Ki",
        "colab_type": "code",
        "outputId": "a99a2bcf-e8a4-4f82-c180-792706bb03d9",
        "colab": {
          "base_uri": "https://localhost:8080/",
          "height": 286
        }
      },
      "source": [
        "plt.plot(mbatch_cost)"
      ],
      "execution_count": 0,
      "outputs": [
        {
          "output_type": "execute_result",
          "data": {
            "text/plain": [
              "[<matplotlib.lines.Line2D at 0x7f2e64ec1240>]"
            ]
          },
          "metadata": {
            "tags": []
          },
          "execution_count": 22
        },
        {
          "output_type": "display_data",
          "data": {
            "image/png": "[encoded data removed]",
            "text/plain": [
              "<Figure size 432x288 with 1 Axes>"
            ]
          },
          "metadata": {
            "tags": []
          }
        }
      ]
    },
    {
      "cell_type": "code",
      "metadata": {
        "colab_type": "code",
        "id": "SdJ5GlwBYqIq",
        "colab": {}
      },
      "source": [
        "del model"
      ],
      "execution_count": 0,
      "outputs": []
    }
  ]
}